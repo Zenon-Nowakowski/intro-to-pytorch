{
 "cells": [
  {
   "cell_type": "markdown",
   "id": "d6604fb5",
   "metadata": {},
   "source": [
    "### Regression\n",
    "\n",
    "As we talked about in the previous lecture, regression tasks are ones where you attempt to predict a continuous value. We will focus on linear regression.\n",
    "\n",
    "Linear regression is simply the attempt to predict the value of one variable based on the value of another variable. The variable that we want to predict is called the \"Dependent Variable\", as it is dependent on another value. The variable that we use to make the prediction is called the \"Independent Variable\", as for the purposes of our model its value is independent of any other value in the model.\n",
    "\n",
    "The nice thing about linear regression is that it's very easy to interpret. Think about a simple linear equation:\n",
    "\n",
    "\\begin{equation}\n",
    "y = mx + b\n",
    "\\end{equation}\n",
    "\n",
    "Here we have a linear relationship between the dependent variable - y - and the independent variable - x. You should all be familiar with that formulation (m = slope, b = intercept) and at the most basic level, that's what we're trying to learn.\n",
    "\n",
    "There are a number of criteria that we may wish to evaluate before deciding whether a linear model is the right model for us to use. One very simple way - plot the data. If the data looks approximately linear, then we may want to fit a linear model.\n",
    "\n",
    "We also should check for certain properties of our data that will make them suited for this task. To start, the data should be continuous. The data samples should also be IID - Independent and Identically Distributed. This means that there should be no intra-data dependencies (the value of data item 3 should have no relationship to data item 4, etc...), and it means that all of the data should be drawn from the same probability distribution.\n",
    "\n",
    "Furthermore, we may want to check to make sure there are no significant outliers. While some models can handle outlier data better than others, the \"cleaner\" our data set the better."
   ]
  },
  {
   "cell_type": "markdown",
   "id": "f0605eaf",
   "metadata": {},
   "source": [
    "### Learning our function\n",
    "\n",
    "So how do we actually do this? We'll go over a basic method for computing a linear regression: least squares.\n",
    "\n",
    "Least Squares attempts to minimize the distance between the distance along the y-axis and our chosen line of best fit. \n",
    "\n",
    "Recall our equation:\n",
    "\n",
    "\\begin{equation}\n",
    "y = mx + b\n",
    "\\end{equation}\n",
    "\n",
    "So we will have to find a value for both m (the slope) and b (the intercept). The equation for those are as follows:\n",
    "\n",
    "\\begin{equation}\n",
    "m = \\frac{\\sum{(x_i-\\bar{x})(y_i-\\bar{y})}}{\\sum{(x_i-\\bar{x})^2}}\n",
    "\\end{equation}\n",
    "\n",
    "\\begin{equation}\n",
    "b = \\bar{y} - m \\bar{x}\n",
    "\\end{equation}\n",
    "\n",
    "Exercise: Using basic python, compute m and b for x = [56, 75, 61, 61, 67, 72, 62, 61] and y = [21, 39, 34, 21, 32, 24, 29, 24]"
   ]
  },
  {
   "cell_type": "markdown",
   "id": "b57d8da0",
   "metadata": {},
   "source": [
    "### Sklearn\n",
    "\n",
    "We can use external libraries to help us with computing a linear regression as well. sklearn provides an easy class to use."
   ]
  },
  {
   "cell_type": "code",
   "execution_count": null,
   "id": "ae9e9990",
   "metadata": {},
   "outputs": [],
   "source": [
    "import numpy as np\n",
    "from sklearn.linear_model import LinearRegression\n",
    "X = np.array([56, 75, 61, 61, 67, 72, 62, 61]).reshape(-1, 1)\n",
    "y = np.array([21, 39, 34, 21, 32, 24, 29, 24])\n",
    "reg = LinearRegression().fit(X, y)\n",
    "reg.score(X, y)\n",
    "reg.coef_\n",
    "reg.intercept_\n",
    "reg.predict(np.array([65]).reshape(-1, 1))"
   ]
  },
  {
   "cell_type": "code",
   "execution_count": null,
   "id": "0662f0e4",
   "metadata": {},
   "outputs": [],
   "source": []
  }
 ],
 "metadata": {
  "kernelspec": {
   "display_name": "Python 3 (ipykernel)",
   "language": "python",
   "name": "python3"
  },
  "language_info": {
   "codemirror_mode": {
    "name": "ipython",
    "version": 3
   },
   "file_extension": ".py",
   "mimetype": "text/x-python",
   "name": "python",
   "nbconvert_exporter": "python",
   "pygments_lexer": "ipython3",
   "version": "3.8.17"
  }
 },
 "nbformat": 4,
 "nbformat_minor": 5
}
