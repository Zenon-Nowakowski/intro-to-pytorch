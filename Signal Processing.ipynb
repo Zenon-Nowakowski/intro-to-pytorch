{
 "cells": [
  {
   "cell_type": "markdown",
   "id": "f3031d03",
   "metadata": {},
   "source": [
    "### Signal Processing with numpy and scipy\n",
    "\n",
    "Now that we've had an introduction to numpy, we'll get to see it in action with another member of the standard scientific computing stack: scipy\n",
    "\n",
    "Scipy is a python library for scientific and technical computing, and its use dates back many years to the beginning of when Python started to become popular. In fact, numpy and scipy share some of the original developers, and were developed alongside each other from the start.\n",
    "\n",
    "Scipy enables the use of the *ndarray* object within numpy for scientific applications that span everything from high performance computing, to signal analysis, to mathematical methods. Understanding the fundamentals of numpy then allows us to explore these more complicated concepts within scipy.\n",
    "\n",
    "Scipy is enabled by several packages within the library as a whole. Some of these include:\n",
    "\n",
    "- constants - common physics and mathematical constants\n",
    "- fft - utilities for computing the Discrete Fourier Transform\n",
    "- ndimage - for image processing\n",
    "- optimize - optimization algorithms\n",
    "- stats - common statistics functions\n",
    "- signal - for signal processing functions"
   ]
  },
  {
   "cell_type": "markdown",
   "id": "240f12ef",
   "metadata": {},
   "source": [
    "### Scipy and Signal Analysis\n",
    "\n",
    "We are going to explore the use of scipy in signal analysis applications today in this notebook, to give you a flavor for how numpy and scipy work together.\n",
    "\n",
    "Note that we'll also do some rudimentary matplotlib, to introduce you a little to that library.\n",
    "\n",
    "Our goal will be to go over some basics of signal processing, and we'll note how we're passing data around and how that ties back to numpy.\n",
    "\n",
    "I'll give the math where appropriate, but no math is strictly needed! Feel free to skip; there will be no math on the test."
   ]
  },
  {
   "cell_type": "code",
   "execution_count": null,
   "id": "04d1ec60",
   "metadata": {},
   "outputs": [],
   "source": [
    "# remember, you can download libraries in jupyter with '!pip install <library name>'\n",
    "import numpy as np \n",
    "import matplotlib.pyplot as plt \n",
    "import pandas as pd \n",
    "from scipy import signal\n",
    "import pywt"
   ]
  },
  {
   "cell_type": "code",
   "execution_count": null,
   "id": "8f4562ad",
   "metadata": {},
   "outputs": [],
   "source": [
    "# note how we can use pandas to super easily read the data in\n",
    "data_fft = pd.read_csv('PJME_hourly.csv')\n",
    "# then we create an array for our data in numpy; this is the format that matplotlib is expecting. more on this next week\n",
    "y = np.array(data_fft.PJME_MW)\n",
    "x = data_fft.index\n",
    "date_array = pd.to_datetime(data_fft.Datetime)\n",
    "plt.plot(date_array,y)\n",
    "plt.xlabel('Date',fontsize=20)\n",
    "plt.ylabel('MW Energy Consumption',fontsize=20)"
   ]
  },
  {
   "cell_type": "code",
   "execution_count": null,
   "id": "e254a138",
   "metadata": {},
   "outputs": [],
   "source": [
    "# Next up is pre-processing\n",
    "# here we will de-trend our data (what does this mean? look at the documentation!) \n",
    "# this is a useful preprocessing step that will make our analysis methods more accurate\n",
    "y_detrend = signal.detrend(y)\n",
    "plt.plot(date_array, y_detrend,color='black',label='Detrended Signal')\n",
    "plt.plot(date_array,y, color='green',label='Raw Signal')\n",
    "plt.legend()\n",
    "plt.xlabel('Date',fontsize=20)\n",
    "plt.ylabel('Temperature',fontsize=20)"
   ]
  },
  {
   "cell_type": "code",
   "execution_count": null,
   "id": "27d97088",
   "metadata": {},
   "outputs": [],
   "source": [
    "data_fft.head()"
   ]
  },
  {
   "cell_type": "code",
   "execution_count": null,
   "id": "ec127033",
   "metadata": {},
   "outputs": [],
   "source": [
    "# Next, we can compute a Fast Fourier Transform\n",
    "FFT =np.fft.fft(y_detrend)\n",
    "new_N=int(len(FFT)/2) \n",
    "f_nat=1\n",
    "new_X = np.linspace(10**-12, f_nat/2, new_N, endpoint=True)\n",
    "new_Xph=1.0/(new_X)\n",
    "FFT_abs=np.abs(FFT)\n",
    "plt.plot(new_Xph,2*FFT_abs[0:int(len(FFT)/2.)]/len(new_Xph),color='black')\n",
    "plt.xlabel('Period ($h$)',fontsize=20)\n",
    "plt.ylabel('Amplitude',fontsize=20)\n",
    "plt.title('(Fast) Fourier Transform Method Algorithm',fontsize=20)\n",
    "plt.grid(True)\n",
    "plt.xlim(0,200)"
   ]
  },
  {
   "cell_type": "markdown",
   "id": "1194e3c0",
   "metadata": {},
   "source": [
    "### Task\n",
    "\n",
    "Now that you've seen that code in action, let's break it apart a little! I'm going to leave you with a series of steps that you can take to understand what's going on with the code. \n",
    "\n",
    "1. data_fft contains our data, read in through pandas. What can we learn about our data? Apply what we did in the previous weeks to that data frame. What are you able to discover?\n",
    "2. Why is it important to preprocess our data? Is this true with just this data set, or all data sets? Think back to any stats class you might have taken; what effect does normalization have on our analyses?\n",
    "3. Ignore the plotting. Just look at the line: `y = np.array(data_fft.PJME_MW)`. What is that doing? What is the data type of `data_fft.PJME_MW`? What about of `y`?\n",
    "4. What are the differences induced by performing this line: `date_array = pd.to_datetime(data_fft.Datetime)`? Why do you think we needed to do that?\n",
    "5. Break this line down by what it does: `new_X = np.linspace(10**-12, f_nat/2, new_N, endpoint=True)`. How are we using a numpy method - `linspace` to help us?"
   ]
  },
  {
   "cell_type": "code",
   "execution_count": null,
   "id": "c5982508",
   "metadata": {},
   "outputs": [],
   "source": []
  }
 ],
 "metadata": {
  "kernelspec": {
   "display_name": "Python 3 (ipykernel)",
   "language": "python",
   "name": "python3"
  },
  "language_info": {
   "codemirror_mode": {
    "name": "ipython",
    "version": 3
   },
   "file_extension": ".py",
   "mimetype": "text/x-python",
   "name": "python",
   "nbconvert_exporter": "python",
   "pygments_lexer": "ipython3",
   "version": "3.8.17"
  }
 },
 "nbformat": 4,
 "nbformat_minor": 5
}
