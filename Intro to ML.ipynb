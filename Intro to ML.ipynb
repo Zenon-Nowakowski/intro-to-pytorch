{
 "cells": [
  {
   "cell_type": "markdown",
   "id": "11eb7998",
   "metadata": {},
   "source": [
    "### Machine Learning\n",
    "\n",
    "We're going to spend the next couple of weeks diving into Artifical Intelligence and Machine Learning. Obviously, this is a very big subject, so we won't be able to go into great detail over every possible topic, but we'll touch on enough to give you a sense of what the tools are that you can use, and what each of the different techniques are.\n",
    "\n",
    "Artificial Intelligence is a big umbrella term that covers a lot of different subjects. This can include things like association rules (think of learning a complex system of 'if-then-else' rules), statistical methods (Bayesian Inference is one such example), and Machine Learning. Within Machine Learning, the dominant field these days is Deep Learning, a collection of methods that use layers of linear algebra blocks to automatically learn representations of data to support downstream tasks such as generative methods, clustering, and classification, among others.\n",
    "\n",
    "Python has become the most popular framework for AI/ML methods, due to its ease of use and broad support via thirdparty libraries.\n",
    "\n",
    "Today, we'll go over AI/ML at a high level, talk about how we can use the skills we've developed so far to work these tasks, and talk about the different libraries and resources for doing this work. We'll then introduce in a later class Regression, Classification, and Clustering tasks in greater detail, and conclude the AI/ML module with some advanced topics in AI/ML."
   ]
  },
  {
   "cell_type": "markdown",
   "id": "b11b0a6d",
   "metadata": {},
   "source": [
    "### AI at a High Level\n",
    "\n",
    "AI at a broad level is any method that uses data - as well as external information at times - to uncover relationships between data. Oftentimes, an analogy of human perception (e.g. vision) is used to motivate research in this area. However, those analogies are informative at a high level, but quickly break down.\n",
    "\n",
    "We will not cover all of the particulars of AI/ML, but we'll select certain topics that are most relevant"
   ]
  },
  {
   "cell_type": "markdown",
   "id": "7ea9ba35",
   "metadata": {},
   "source": [
    "### Discussion\n",
    "\n",
    "1. When you think of AI/ML, what do you think of?\n",
    "2. Can you name companies or universities that are known for their research in this area?\n",
    "3. What has been your exposure to the field of AI/ML so far? \n",
    "4. What are you hoping to learn about in these sections?"
   ]
  },
  {
   "cell_type": "markdown",
   "id": "aaf505c3",
   "metadata": {},
   "source": [
    "### AI Overview\n",
    "\n",
    "At its core, what an AI System attempts to do is to perceive an environment (via ingesting images, text, or other forms of input), sets a goal (such as recognizing pictures of dogs), and performs operations that allow them to map its environment to that goal.\n",
    "\n",
    "Humans are much better at applying intelligence than machines (for now...) and its important to understand where the analogy between human intelligence and machine intelligence breaks down.\n",
    "\n",
    "Humans are really good at understanding data *in context*. As a human, you have been learning your environment since the day you were born. You have whole systems of natural sensors - your senses - that you pull in data and learn how to associate the data received via those sensors to outcomes in the real world. Think of new parents \"baby talking\" to a newborn. This is an important language acquisition activity! The baby lacks the capacity to express language, so the parents \"dumb it down\" for them while they construct their mental model of language and start to close the loop between ingesting information (listening) and producing information (talking). \n",
    "\n",
    "Machines are excellent at performing computation. Think about the structure of a computing system. At the lowest level, all the computer is doing is a series of arthimetic operations on data (more fundamentally, you have additions, shifts, etc...). So the main question for those who are building fundamental AI systems is, how can you translate a math problem into a learning problem?\n",
    "\n",
    "Within the field of AI, you have a large number of research areas. These include (but are not limited to):\n",
    "* Reasoning\n",
    "* Knowledge Representation\n",
    "* Planning\n",
    "* Coordination\n",
    "* Computer Vision\n",
    "* Natural Language Processing\n",
    "* Robotics\n",
    "\n",
    "All of those problems can be expressed at their fundamental level as math problems. We describe our objective in terms of the math that allows us to answer this question, and then use various AI methods to achieve that objective.\n",
    "\n",
    "For example, if you want to classify pictures of dogs, you will need to learn a mathematical representation of those pictures (representation learning), and then apply mathematical methods to learn a separability of those representations, i.e. such that all of the representations of dogs are *close* (via something like cosine difference) to each other, and far away from representations of images that don't contain dogs."
   ]
  },
  {
   "cell_type": "markdown",
   "id": "7f20bb44",
   "metadata": {},
   "source": [
    "### History of AI\n",
    "\n",
    "AI has a long history, stretching back to the 1940s and even earlier. In the late 1940 a researcher conducting work on behalf of the Navy named Frank Rosenblat developed the Mark I Perceptron: a single layer network of computation that he proposed could eventually automate tasks on behalf of the Navy. Obviously, the full promise of what he proposed didn't come to pass, but it set forth the research that we will explore today.\n",
    "\n",
    "The history of AI has been littered with times of great advancements (AI Summers) and lulls in advancement (AI Winters). Oftentimes, the AI Winters come about due to limitations of existing methods, research directions that went nowhere, or significant drops in funding for these methods.\n",
    "\n",
    "The current AI Summer that we are experience is due to a confluence of factors, including an abundance of data, advanced parallel computing systems (GPUs), and significant investment in both the public and private sector. With these investments, we'll been able to see great advancements in this work, much of which you are familiar with through consumer products."
   ]
  },
  {
   "cell_type": "markdown",
   "id": "a8e0717b",
   "metadata": {},
   "source": [
    "### Discussion\n",
    "\n",
    "1. Can you think of any existing products or systems you use that use AI?\n",
    "2. What has been your experience in using consumer products that use AI?"
   ]
  },
  {
   "cell_type": "markdown",
   "id": "43c3d7e1",
   "metadata": {},
   "source": [
    "    ### Python Tech Stack\n",
    "\n",
    "    In order to do this work, we will employ much of the same technology that we've been working with all semester. Pandas, numpy, scipy, and matplotlib are all essential tools for building learning systems"
   ]
  },
  {
   "cell_type": "code",
   "execution_count": null,
   "id": "3ba8523a",
   "metadata": {},
   "outputs": [],
   "source": []
  },
  {
   "cell_type": "code",
   "execution_count": null,
   "id": "04f0568e",
   "metadata": {},
   "outputs": [],
   "source": []
  }
 ],
 "metadata": {
  "kernelspec": {
   "display_name": "Python 3 (ipykernel)",
   "language": "python",
   "name": "python3"
  },
  "language_info": {
   "codemirror_mode": {
    "name": "ipython",
    "version": 3
   },
   "file_extension": ".py",
   "mimetype": "text/x-python",
   "name": "python",
   "nbconvert_exporter": "python",
   "pygments_lexer": "ipython3",
   "version": "3.8.17"
  }
 },
 "nbformat": 4,
 "nbformat_minor": 5
}
